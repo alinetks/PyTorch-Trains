{
 "cells": [
  {
   "cell_type": "markdown",
   "metadata": {},
   "source": [
    "Compose function - Curve graph"
   ]
  },
  {
   "cell_type": "code",
   "execution_count": null,
   "metadata": {},
   "outputs": [],
   "source": [
    "import torch\n",
    "import numpy as np\n",
    "from torch import nn"
   ]
  },
  {
   "cell_type": "code",
   "execution_count": null,
   "metadata": {},
   "outputs": [],
   "source": [
    "class MultiLayerNetwork(nn.Module):\n",
    "  def __init__(self):\n",
    "    super().__init__()\n",
    "    self.layers = nn.Sequential(\n",
    "        nn.Linear(1, 128),\n",
    "        nn.ReLU(),\n",
    "        nn.Linear(128, 64),\n",
    "        nn.ReLU(),\n",
    "        nn.Linear(64, 32),\n",
    "        nn.ReLU(),\n",
    "        nn.Linear(32, 8),\n",
    "        nn.ReLU(),\n",
    "        nn.Linear(8, 1),\n",
    "    )\n",
    "\n",
    "  def forward(self, x):\n",
    "    return self.layers(x)"
   ]
  },
  {
   "cell_type": "code",
   "execution_count": null,
   "metadata": {},
   "outputs": [],
   "source": [
    "from torch.utils.data import Dataset, DataLoader\n",
    "import torch.distributions.uniform as urand"
   ]
  },
  {
   "cell_type": "code",
   "execution_count": null,
   "metadata": {},
   "outputs": [],
   "source": [
    "class AlgebraicDataset(Dataset):\n",
    "  #pass parameters: self, function, interval, sample\n",
    "  def __init__(self, f, interval, nsamples):\n",
    "    X = urand.Uniform(interval[0], interval[1]).sample([nsamples])\n",
    "    self.data = [(x, f(x)) for x in X]\n",
    "\n",
    "  def __len__(self):\n",
    "    return len(self.data)\n",
    "\n",
    "  def __getitem__(self, idx):\n",
    "    return self.data[idx]"
   ]
  },
  {
   "cell_type": "code",
   "execution_count": null,
   "metadata": {},
   "outputs": [],
   "source": [
    "device = \"cuda\" if torch.cuda.is_available() else \"cpu\"\n",
    "print(f\"Run on {device}\")\n",
    "#See its run on GPU device"
   ]
  },
  {
   "cell_type": "code",
   "execution_count": null,
   "metadata": {},
   "outputs": [],
   "source": [
    "multimodel = MultiLayerNetwork().to(device)"
   ]
  },
  {
   "cell_type": "code",
   "execution_count": null,
   "metadata": {},
   "outputs": [],
   "source": [
    "from math import cos"
   ]
  },
  {
   "cell_type": "code",
   "execution_count": null,
   "metadata": {},
   "outputs": [],
   "source": [
    "f = lambda x: cos(x/2)"
   ]
  },
  {
   "cell_type": "code",
   "execution_count": null,
   "metadata": {},
   "outputs": [],
   "source": [
    "interval = (-10, 10)\n",
    "train_nsamples = 1000\n",
    "test_nsamples = 100"
   ]
  },
  {
   "cell_type": "code",
   "execution_count": null,
   "metadata": {},
   "outputs": [],
   "source": [
    "train_dataset = AlgebraicDataset(f, interval, train_nsamples)\n",
    "test_dataset = AlgebraicDataset(f, interval, test_nsamples)\n",
    "\n",
    "train_dataloader = DataLoader(train_dataset, train_nsamples, shuffle=True)\n",
    "test_dataloader = DataLoader(test_dataset, test_nsamples, shuffle=True)"
   ]
  },
  {
   "cell_type": "code",
   "execution_count": null,
   "metadata": {},
   "outputs": [],
   "source": [
    "lossfunc = nn.MSELoss()\n",
    "optimizer = torch.optim.SGD(multimodel.parameters(), lr=1e-3)"
   ]
  },
  {
   "cell_type": "code",
   "execution_count": null,
   "metadata": {},
   "outputs": [],
   "source": [
    "def train(model, dataloader, lossfunc, optimizer):\n",
    "  model.train()\n",
    "  cumloss = 0.0\n",
    "  for X, y in dataloader:\n",
    "    X = X.unsqueeze(1).float().to(device)\n",
    "    y = y.unsqueeze(1).float().to(device)\n",
    "\n",
    "    pred = model(X)\n",
    "    loss = lossfunc(pred, y)\n",
    "\n",
    "    # clean cache\n",
    "    optimizer.zero_grad()\n",
    "    # compute gradients\n",
    "    loss.backward()\n",
    "    # reduces local error\n",
    "    optimizer.step()\n",
    "\n",
    "    # loss is a tensor; to get float\n",
    "    cumloss += loss.item() \n",
    "  \n",
    "  return cumloss / len(dataloader)\n",
    "\n",
    "\n",
    "def test(model, dataloader, lossfunc):\n",
    "  model.eval()\n",
    "  \n",
    "  cumloss = 0.0\n",
    "  with torch.no_grad():\n",
    "    for X, y in dataloader:\n",
    "      X = X.unsqueeze(1).float().to(device)\n",
    "      y = y.unsqueeze(1).float().to(device)\n",
    "\n",
    "      pred = model(X)\n",
    "      loss = lossfunc(pred, y)\n",
    "      cumloss += loss.item() \n",
    "  \n",
    "  return cumloss / len(dataloader)"
   ]
  },
  {
   "cell_type": "code",
   "execution_count": null,
   "metadata": {},
   "outputs": [],
   "source": [
    "#define amount and show\n",
    "\n",
    "epochs = 20001\n",
    "for t in range(epochs):\n",
    "\ttrain_loss = train(multimodel, train_dataloader, lossfunc, optimizer)\n",
    "\tif t % 100 == 0:\n",
    "\t\tprint(f\"Epoch: {t}; Train Loss: {train_loss}\")\n",
    "\t\tplot_comparinson(f, multimodel, nsamples=40)\n",
    "\n",
    "test_loss = test(multimodel, test_dataloader, lossfunc)\n",
    "print(f\"Test Loss: {test_loss}\")"
   ]
  },
  {
   "cell_type": "markdown",
   "metadata": {},
   "source": [
    "Expected result: \n",
    "First epoch step:\n",
    "\n",
    "![Untitled](https://prod-files-secure.s3.us-west-2.amazonaws.com/3d7f32a3-eddd-46e3-a6ee-4a4f8ffd2aab/7dcf1ab6-f42d-422d-949f-56d68b7da6c6/Untitled.png)\n",
    "\n",
    "Last epoch step:\n",
    "![Untitled](https://prod-files-secure.s3.us-west-2.amazonaws.com/3d7f32a3-eddd-46e3-a6ee-4a4f8ffd2aab/c2da6a68-78f3-4c5a-8376-d4f5be144b9a/Untitled.png)"
   ]
  }
 ],
 "metadata": {
  "language_info": {
   "name": "python"
  },
  "orig_nbformat": 4
 },
 "nbformat": 4,
 "nbformat_minor": 2
}

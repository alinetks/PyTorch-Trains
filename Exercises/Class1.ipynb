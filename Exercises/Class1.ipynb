{
 "cells": [
  {
   "cell_type": "markdown",
   "metadata": {},
   "source": [
    "Compose function - Line graph"
   ]
  },
  {
   "cell_type": "code",
   "execution_count": null,
   "metadata": {},
   "outputs": [],
   "source": [
    "import torch\n",
    "import numpy as np\n",
    "from torch import nn"
   ]
  },
  {
   "cell_type": "code",
   "execution_count": null,
   "metadata": {},
   "outputs": [],
   "source": [
    "class LineNetwork(nn.Module):\n",
    "# Initialization\n",
    "def init(self):\n",
    "#Init\n",
    "    super().__init__()\n",
    "    #Variable - definition of sequence of neurons\n",
    "    self.layers = nn.Sequential(\n",
    "        #Receives entry and weight\n",
    "        nn.Linear(1, 1)\n",
    ")\n",
    "\n",
    "#How the network computes\n",
    "def forward(self, x):\n",
    "return self.layers(x)"
   ]
  },
  {
   "cell_type": "code",
   "execution_count": null,
   "metadata": {},
   "outputs": [],
   "source": [
    "from torch.utils.data import Dataset, DataLoader\n",
    "import torch.distributions.uniform as urand"
   ]
  },
  {
   "cell_type": "code",
   "execution_count": null,
   "metadata": {},
   "outputs": [],
   "source": [
    "class AlgebraicDataset(Dataset):\n",
    "  #pass parameters: self, function, interval, sample\n",
    "  def __init__(self, f, interval, nsamples):\n",
    "    X = urand.Uniform(interval[0], interval[1]).sample([nsamples])\n",
    "    self.data = [(x, f(x)) for x in X]\n",
    "\n",
    "  def __len__(self):\n",
    "    return len(self.data)\n",
    "\n",
    "  def __getitem__(self, idx):\n",
    "    return self.data[idx]"
   ]
  },
  {
   "cell_type": "code",
   "execution_count": null,
   "metadata": {},
   "outputs": [],
   "source": [
    "line = lambda x: 2*x + 3\n",
    "interval = (-10, 10)\n",
    "train_nsamples = 1000\n",
    "test_nsamples = 100"
   ]
  },
  {
   "cell_type": "code",
   "execution_count": null,
   "metadata": {},
   "outputs": [],
   "source": [
    "train_dataset = AlgebraicDataset(line, interval, train_nsamples)\n",
    "test_dataset = AlgebraicDataset(line, interval, test_nsamples)\n",
    "\n",
    "#Use batch to view little data\n",
    "train_dataloader = DataLoader(train_dataset, batch_size=train_nsamples, shuffle=True)\n",
    "test_dataloader = DataLoader(train_dataset, batch_size=train_nsamples, shuffle=True)"
   ]
  },
  {
   "cell_type": "code",
   "execution_count": null,
   "metadata": {},
   "outputs": [],
   "source": [
    "device = \"cuda\" if torch.cuda.is_available() else \"cpu\"\n",
    "print(f\"Run on {device}\")\n",
    "#See its run on GPU device"
   ]
  },
  {
   "cell_type": "code",
   "execution_count": null,
   "metadata": {},
   "outputs": [],
   "source": [
    "model = LineNetwork().to(device)"
   ]
  },
  {
   "cell_type": "code",
   "execution_count": null,
   "metadata": {},
   "outputs": [],
   "source": [
    "# loss function\n",
    "# Mean Squared Error\n",
    "lossfunc = nn.MSELoss()\n",
    "# SGD = Stochastic Gradient Descent\n",
    "optimizer = torch.optim.SGD(model.parameters(), lr=1e-3)\n",
    "# lr = learning rate"
   ]
  },
  {
   "cell_type": "code",
   "execution_count": null,
   "metadata": {},
   "outputs": [],
   "source": [
    "def train(model, dataloader, lossfunc, optimizer):\n",
    "  model.train()\n",
    "  cumloss = 0.0\n",
    "  for X, y in dataloader:\n",
    "    X = X.unsqueeze(1).float().to(device)\n",
    "    y = y.unsqueeze(1).float().to(device)\n",
    "\n",
    "    pred = model(X)\n",
    "    loss = lossfunc(pred, y)\n",
    "\n",
    "    # clean cache\n",
    "    optimizer.zero_grad()\n",
    "    # compute gradients\n",
    "    loss.backward()\n",
    "    # reduces local error\n",
    "    optimizer.step()\n",
    "\n",
    "    # loss is a tensor; to get float\n",
    "    cumloss += loss.item() \n",
    "  \n",
    "  return cumloss / len(dataloader)\n",
    "\n",
    "\n",
    "def test(model, dataloader, lossfunc):\n",
    "  model.eval()\n",
    "  \n",
    "  cumloss = 0.0\n",
    "  with torch.no_grad():\n",
    "    for X, y in dataloader:\n",
    "      X = X.unsqueeze(1).float().to(device)\n",
    "      y = y.unsqueeze(1).float().to(device)\n",
    "\n",
    "      pred = model(X)\n",
    "      loss = lossfunc(pred, y)\n",
    "      cumloss += loss.item() \n",
    "  \n",
    "  return cumloss / len(dataloader)"
   ]
  },
  {
   "cell_type": "code",
   "execution_count": null,
   "metadata": {},
   "outputs": [],
   "source": [
    "import matplotlib.pyplot as plt"
   ]
  },
  {
   "cell_type": "code",
   "execution_count": null,
   "metadata": {},
   "outputs": [],
   "source": [
    "# For view\n",
    "def plot_comparinson(f, model, interval=(-10, 10), nsamples=10):\n",
    "  fig, ax = plt.subplots(figsize=(10, 10))\n",
    "\n",
    "  ax.grid(True, which='both')\n",
    "  ax.spines['left'].set_position('zero')\n",
    "  ax.spines['right'].set_color('none')\n",
    "  ax.spines['bottom'].set_position('zero')\n",
    "  ax.spines['top'].set_color('none')\n",
    "\n",
    "  samples = np.linspace(interval[0], interval[1], nsamples)\n",
    "  model.eval()\n",
    "  with torch.no_grad():\n",
    "    pred = model(torch.tensor(samples).unsqueeze(1).float().to(device))\n",
    "\n",
    "  ax.plot(samples, list(map(f, samples)), \"o\", label=\"ground truth\")\n",
    "  ax.plot(samples, pred.cpu(), label=\"model\")\n",
    "  plt.legend()\n",
    "  plt.show()"
   ]
  },
  {
   "cell_type": "code",
   "execution_count": null,
   "metadata": {},
   "outputs": [],
   "source": [
    "#define amount and show\n",
    "epochs = 201\n",
    "for t in range(epochs):\n",
    "train_loss = train(model, train_dataloader, lossfunc, optimizer)\n",
    "if t % 10 == 0:\n",
    "print(f\"Epoch: {t}; Train Loss: {train_loss}\")\n",
    "plot_comparinson(line, model) \n",
    "\n",
    "test_loss = test(model, test_dataloader, lossfunc)\n",
    "print(f\"Test Loss: {test_loss}\")"
   ]
  },
  {
   "cell_type": "markdown",
   "metadata": {},
   "source": [
    "Expected result: \n",
    "First epoch step:\n",
    "\n",
    "![Untitled](https://prod-files-secure.s3.us-west-2.amazonaws.com/3d7f32a3-eddd-46e3-a6ee-4a4f8ffd2aab/209c8c85-3354-4b40-86d8-037374f3af5b/Untitled.png)\n",
    "\n",
    "Last epoch step:\n",
    "![Untitled](https://prod-files-secure.s3.us-west-2.amazonaws.com/3d7f32a3-eddd-46e3-a6ee-4a4f8ffd2aab/e0ffb02b-9e76-4618-b768-6fa88a2aa6b9/Untitled.png)"
   ]
  },
  {
   "cell_type": "code",
   "execution_count": null,
   "metadata": {},
   "outputs": [],
   "source": []
  },
  {
   "cell_type": "code",
   "execution_count": null,
   "metadata": {},
   "outputs": [],
   "source": []
  }
 ],
 "metadata": {
  "language_info": {
   "name": "python"
  },
  "orig_nbformat": 4
 },
 "nbformat": 4,
 "nbformat_minor": 2
}
